{
 "cells": [
  {
   "cell_type": "code",
   "execution_count": 1,
   "metadata": {},
   "outputs": [],
   "source": [
    "import pandas as pd\n",
    "import seaborn as sns\n",
    "import matplotlib.pyplot as plt\n",
    "%matplotlib inline\n",
    "import numpy as np"
   ]
  },
  {
   "cell_type": "code",
   "execution_count": 2,
   "metadata": {},
   "outputs": [
    {
     "data": {
      "text/plain": [
       "'2.4.1'"
      ]
     },
     "execution_count": 2,
     "metadata": {},
     "output_type": "execute_result"
    }
   ],
   "source": [
    "import tensorflow\n",
    "tensorflow.__version__"
   ]
  },
  {
   "cell_type": "code",
   "execution_count": 3,
   "metadata": {},
   "outputs": [],
   "source": [
    "from tensorflow.keras.models import Sequential  \n",
    "from tensorflow.keras.layers import Dense,Dropout\n",
    "from keras.utils import np_utils"
   ]
  },
  {
   "cell_type": "code",
   "execution_count": 4,
   "metadata": {},
   "outputs": [],
   "source": [
    "data = pd.read_csv('grouped_Activities.csv')"
   ]
  },
  {
   "cell_type": "code",
   "execution_count": 5,
   "metadata": {},
   "outputs": [
    {
     "data": {
      "text/html": [
       "<div>\n",
       "<style scoped>\n",
       "    .dataframe tbody tr th:only-of-type {\n",
       "        vertical-align: middle;\n",
       "    }\n",
       "\n",
       "    .dataframe tbody tr th {\n",
       "        vertical-align: top;\n",
       "    }\n",
       "\n",
       "    .dataframe thead th {\n",
       "        text-align: right;\n",
       "    }\n",
       "</style>\n",
       "<table border=\"1\" class=\"dataframe\">\n",
       "  <thead>\n",
       "    <tr style=\"text-align: right;\">\n",
       "      <th></th>\n",
       "      <th>Unnamed: 0</th>\n",
       "      <th>Timestamp</th>\n",
       "      <th>Acc_X</th>\n",
       "      <th>Acc_Y</th>\n",
       "      <th>Acc_Z</th>\n",
       "      <th>AngV_X</th>\n",
       "      <th>AngV_Y</th>\n",
       "      <th>AngV_Z</th>\n",
       "      <th>Mag_X</th>\n",
       "      <th>Mag_Y</th>\n",
       "      <th>Mag_Z</th>\n",
       "      <th>Orin_X</th>\n",
       "      <th>Orin_Y</th>\n",
       "      <th>Orin_Z</th>\n",
       "      <th>Activity</th>\n",
       "    </tr>\n",
       "  </thead>\n",
       "  <tbody>\n",
       "    <tr>\n",
       "      <th>0</th>\n",
       "      <td>0</td>\n",
       "      <td>2021-02-15 13:50:21.550</td>\n",
       "      <td>-0.158969</td>\n",
       "      <td>2.803969</td>\n",
       "      <td>9.085058</td>\n",
       "      <td>-0.043932</td>\n",
       "      <td>-0.045130</td>\n",
       "      <td>0.045454</td>\n",
       "      <td>-19.597500</td>\n",
       "      <td>-5.601242</td>\n",
       "      <td>-41.832703</td>\n",
       "      <td>-90.007644</td>\n",
       "      <td>-15.340794</td>\n",
       "      <td>-0.056757</td>\n",
       "      <td>Sitting</td>\n",
       "    </tr>\n",
       "    <tr>\n",
       "      <th>1</th>\n",
       "      <td>1</td>\n",
       "      <td>2021-02-15 13:50:21.600</td>\n",
       "      <td>0.105081</td>\n",
       "      <td>2.691852</td>\n",
       "      <td>9.735305</td>\n",
       "      <td>-0.015150</td>\n",
       "      <td>0.017822</td>\n",
       "      <td>-0.039482</td>\n",
       "      <td>-19.790108</td>\n",
       "      <td>-5.628992</td>\n",
       "      <td>-41.756622</td>\n",
       "      <td>-90.030670</td>\n",
       "      <td>-15.489331</td>\n",
       "      <td>-0.163034</td>\n",
       "      <td>Sitting</td>\n",
       "    </tr>\n",
       "    <tr>\n",
       "      <th>2</th>\n",
       "      <td>2</td>\n",
       "      <td>2021-02-15 13:50:21.650</td>\n",
       "      <td>-0.065414</td>\n",
       "      <td>2.734813</td>\n",
       "      <td>9.690698</td>\n",
       "      <td>0.029210</td>\n",
       "      <td>-0.072317</td>\n",
       "      <td>0.006180</td>\n",
       "      <td>-19.635098</td>\n",
       "      <td>-5.536165</td>\n",
       "      <td>-42.205139</td>\n",
       "      <td>-90.047929</td>\n",
       "      <td>-15.306761</td>\n",
       "      <td>-0.206336</td>\n",
       "      <td>Sitting</td>\n",
       "    </tr>\n",
       "  </tbody>\n",
       "</table>\n",
       "</div>"
      ],
      "text/plain": [
       "   Unnamed: 0                Timestamp     Acc_X     Acc_Y     Acc_Z  \\\n",
       "0           0  2021-02-15 13:50:21.550 -0.158969  2.803969  9.085058   \n",
       "1           1  2021-02-15 13:50:21.600  0.105081  2.691852  9.735305   \n",
       "2           2  2021-02-15 13:50:21.650 -0.065414  2.734813  9.690698   \n",
       "\n",
       "     AngV_X    AngV_Y    AngV_Z      Mag_X     Mag_Y      Mag_Z     Orin_X  \\\n",
       "0 -0.043932 -0.045130  0.045454 -19.597500 -5.601242 -41.832703 -90.007644   \n",
       "1 -0.015150  0.017822 -0.039482 -19.790108 -5.628992 -41.756622 -90.030670   \n",
       "2  0.029210 -0.072317  0.006180 -19.635098 -5.536165 -42.205139 -90.047929   \n",
       "\n",
       "      Orin_Y    Orin_Z Activity  \n",
       "0 -15.340794 -0.056757  Sitting  \n",
       "1 -15.489331 -0.163034  Sitting  \n",
       "2 -15.306761 -0.206336  Sitting  "
      ]
     },
     "execution_count": 5,
     "metadata": {},
     "output_type": "execute_result"
    }
   ],
   "source": [
    "data.head(3)"
   ]
  },
  {
   "cell_type": "code",
   "execution_count": 6,
   "metadata": {},
   "outputs": [],
   "source": [
    "df = data.copy()"
   ]
  },
  {
   "cell_type": "code",
   "execution_count": 7,
   "metadata": {},
   "outputs": [],
   "source": [
    "df = df.dropna()"
   ]
  },
  {
   "cell_type": "code",
   "execution_count": 8,
   "metadata": {},
   "outputs": [
    {
     "data": {
      "text/html": [
       "<div>\n",
       "<style scoped>\n",
       "    .dataframe tbody tr th:only-of-type {\n",
       "        vertical-align: middle;\n",
       "    }\n",
       "\n",
       "    .dataframe tbody tr th {\n",
       "        vertical-align: top;\n",
       "    }\n",
       "\n",
       "    .dataframe thead th {\n",
       "        text-align: right;\n",
       "    }\n",
       "</style>\n",
       "<table border=\"1\" class=\"dataframe\">\n",
       "  <thead>\n",
       "    <tr style=\"text-align: right;\">\n",
       "      <th></th>\n",
       "      <th>Unnamed: 0</th>\n",
       "      <th>Timestamp</th>\n",
       "      <th>Acc_X</th>\n",
       "      <th>Acc_Y</th>\n",
       "      <th>Acc_Z</th>\n",
       "      <th>AngV_X</th>\n",
       "      <th>AngV_Y</th>\n",
       "      <th>AngV_Z</th>\n",
       "      <th>Mag_X</th>\n",
       "      <th>Mag_Y</th>\n",
       "      <th>Mag_Z</th>\n",
       "      <th>Orin_X</th>\n",
       "      <th>Orin_Y</th>\n",
       "      <th>Orin_Z</th>\n",
       "      <th>Activity</th>\n",
       "    </tr>\n",
       "  </thead>\n",
       "  <tbody>\n",
       "    <tr>\n",
       "      <th>0</th>\n",
       "      <td>0</td>\n",
       "      <td>2021-02-15 13:50:21.550</td>\n",
       "      <td>-0.158969</td>\n",
       "      <td>2.803969</td>\n",
       "      <td>9.085058</td>\n",
       "      <td>-0.043932</td>\n",
       "      <td>-0.045130</td>\n",
       "      <td>0.045454</td>\n",
       "      <td>-19.597500</td>\n",
       "      <td>-5.601242</td>\n",
       "      <td>-41.832703</td>\n",
       "      <td>-90.007644</td>\n",
       "      <td>-15.340794</td>\n",
       "      <td>-0.056757</td>\n",
       "      <td>Sitting</td>\n",
       "    </tr>\n",
       "    <tr>\n",
       "      <th>1</th>\n",
       "      <td>1</td>\n",
       "      <td>2021-02-15 13:50:21.600</td>\n",
       "      <td>0.105081</td>\n",
       "      <td>2.691852</td>\n",
       "      <td>9.735305</td>\n",
       "      <td>-0.015150</td>\n",
       "      <td>0.017822</td>\n",
       "      <td>-0.039482</td>\n",
       "      <td>-19.790108</td>\n",
       "      <td>-5.628992</td>\n",
       "      <td>-41.756622</td>\n",
       "      <td>-90.030670</td>\n",
       "      <td>-15.489331</td>\n",
       "      <td>-0.163034</td>\n",
       "      <td>Sitting</td>\n",
       "    </tr>\n",
       "    <tr>\n",
       "      <th>2</th>\n",
       "      <td>2</td>\n",
       "      <td>2021-02-15 13:50:21.650</td>\n",
       "      <td>-0.065414</td>\n",
       "      <td>2.734813</td>\n",
       "      <td>9.690698</td>\n",
       "      <td>0.029210</td>\n",
       "      <td>-0.072317</td>\n",
       "      <td>0.006180</td>\n",
       "      <td>-19.635098</td>\n",
       "      <td>-5.536165</td>\n",
       "      <td>-42.205139</td>\n",
       "      <td>-90.047929</td>\n",
       "      <td>-15.306761</td>\n",
       "      <td>-0.206336</td>\n",
       "      <td>Sitting</td>\n",
       "    </tr>\n",
       "  </tbody>\n",
       "</table>\n",
       "</div>"
      ],
      "text/plain": [
       "   Unnamed: 0                Timestamp     Acc_X     Acc_Y     Acc_Z  \\\n",
       "0           0  2021-02-15 13:50:21.550 -0.158969  2.803969  9.085058   \n",
       "1           1  2021-02-15 13:50:21.600  0.105081  2.691852  9.735305   \n",
       "2           2  2021-02-15 13:50:21.650 -0.065414  2.734813  9.690698   \n",
       "\n",
       "     AngV_X    AngV_Y    AngV_Z      Mag_X     Mag_Y      Mag_Z     Orin_X  \\\n",
       "0 -0.043932 -0.045130  0.045454 -19.597500 -5.601242 -41.832703 -90.007644   \n",
       "1 -0.015150  0.017822 -0.039482 -19.790108 -5.628992 -41.756622 -90.030670   \n",
       "2  0.029210 -0.072317  0.006180 -19.635098 -5.536165 -42.205139 -90.047929   \n",
       "\n",
       "      Orin_Y    Orin_Z Activity  \n",
       "0 -15.340794 -0.056757  Sitting  \n",
       "1 -15.489331 -0.163034  Sitting  \n",
       "2 -15.306761 -0.206336  Sitting  "
      ]
     },
     "execution_count": 8,
     "metadata": {},
     "output_type": "execute_result"
    }
   ],
   "source": [
    "df.head(3)"
   ]
  },
  {
   "cell_type": "code",
   "execution_count": 9,
   "metadata": {},
   "outputs": [],
   "source": [
    "df = df.drop(\"Unnamed: 0\", axis=1)"
   ]
  },
  {
   "cell_type": "code",
   "execution_count": 10,
   "metadata": {},
   "outputs": [
    {
     "data": {
      "text/html": [
       "<div>\n",
       "<style scoped>\n",
       "    .dataframe tbody tr th:only-of-type {\n",
       "        vertical-align: middle;\n",
       "    }\n",
       "\n",
       "    .dataframe tbody tr th {\n",
       "        vertical-align: top;\n",
       "    }\n",
       "\n",
       "    .dataframe thead th {\n",
       "        text-align: right;\n",
       "    }\n",
       "</style>\n",
       "<table border=\"1\" class=\"dataframe\">\n",
       "  <thead>\n",
       "    <tr style=\"text-align: right;\">\n",
       "      <th></th>\n",
       "      <th>Timestamp</th>\n",
       "      <th>Acc_X</th>\n",
       "      <th>Acc_Y</th>\n",
       "      <th>Acc_Z</th>\n",
       "      <th>AngV_X</th>\n",
       "      <th>AngV_Y</th>\n",
       "      <th>AngV_Z</th>\n",
       "      <th>Mag_X</th>\n",
       "      <th>Mag_Y</th>\n",
       "      <th>Mag_Z</th>\n",
       "      <th>Orin_X</th>\n",
       "      <th>Orin_Y</th>\n",
       "      <th>Orin_Z</th>\n",
       "      <th>Activity</th>\n",
       "    </tr>\n",
       "  </thead>\n",
       "  <tbody>\n",
       "    <tr>\n",
       "      <th>0</th>\n",
       "      <td>2021-02-15 13:50:21.550</td>\n",
       "      <td>-0.158969</td>\n",
       "      <td>2.803969</td>\n",
       "      <td>9.085058</td>\n",
       "      <td>-0.043932</td>\n",
       "      <td>-0.045130</td>\n",
       "      <td>0.045454</td>\n",
       "      <td>-19.597500</td>\n",
       "      <td>-5.601242</td>\n",
       "      <td>-41.832703</td>\n",
       "      <td>-90.007644</td>\n",
       "      <td>-15.340794</td>\n",
       "      <td>-0.056757</td>\n",
       "      <td>Sitting</td>\n",
       "    </tr>\n",
       "    <tr>\n",
       "      <th>1</th>\n",
       "      <td>2021-02-15 13:50:21.600</td>\n",
       "      <td>0.105081</td>\n",
       "      <td>2.691852</td>\n",
       "      <td>9.735305</td>\n",
       "      <td>-0.015150</td>\n",
       "      <td>0.017822</td>\n",
       "      <td>-0.039482</td>\n",
       "      <td>-19.790108</td>\n",
       "      <td>-5.628992</td>\n",
       "      <td>-41.756622</td>\n",
       "      <td>-90.030670</td>\n",
       "      <td>-15.489331</td>\n",
       "      <td>-0.163034</td>\n",
       "      <td>Sitting</td>\n",
       "    </tr>\n",
       "    <tr>\n",
       "      <th>2</th>\n",
       "      <td>2021-02-15 13:50:21.650</td>\n",
       "      <td>-0.065414</td>\n",
       "      <td>2.734813</td>\n",
       "      <td>9.690698</td>\n",
       "      <td>0.029210</td>\n",
       "      <td>-0.072317</td>\n",
       "      <td>0.006180</td>\n",
       "      <td>-19.635098</td>\n",
       "      <td>-5.536165</td>\n",
       "      <td>-42.205139</td>\n",
       "      <td>-90.047929</td>\n",
       "      <td>-15.306761</td>\n",
       "      <td>-0.206336</td>\n",
       "      <td>Sitting</td>\n",
       "    </tr>\n",
       "    <tr>\n",
       "      <th>3</th>\n",
       "      <td>2021-02-15 13:50:21.700</td>\n",
       "      <td>0.288300</td>\n",
       "      <td>2.505939</td>\n",
       "      <td>9.488469</td>\n",
       "      <td>0.007310</td>\n",
       "      <td>-0.021133</td>\n",
       "      <td>-0.040295</td>\n",
       "      <td>-19.892584</td>\n",
       "      <td>-5.790623</td>\n",
       "      <td>-41.786987</td>\n",
       "      <td>-90.010922</td>\n",
       "      <td>-15.431007</td>\n",
       "      <td>-0.321902</td>\n",
       "      <td>Sitting</td>\n",
       "    </tr>\n",
       "    <tr>\n",
       "      <th>4</th>\n",
       "      <td>2021-02-15 13:50:21.751</td>\n",
       "      <td>-0.041763</td>\n",
       "      <td>2.713407</td>\n",
       "      <td>9.748029</td>\n",
       "      <td>0.076889</td>\n",
       "      <td>-0.033310</td>\n",
       "      <td>-0.016419</td>\n",
       "      <td>-19.826864</td>\n",
       "      <td>-5.771675</td>\n",
       "      <td>-41.874054</td>\n",
       "      <td>-90.017554</td>\n",
       "      <td>-15.397740</td>\n",
       "      <td>-0.532236</td>\n",
       "      <td>Sitting</td>\n",
       "    </tr>\n",
       "  </tbody>\n",
       "</table>\n",
       "</div>"
      ],
      "text/plain": [
       "                 Timestamp     Acc_X     Acc_Y     Acc_Z    AngV_X    AngV_Y  \\\n",
       "0  2021-02-15 13:50:21.550 -0.158969  2.803969  9.085058 -0.043932 -0.045130   \n",
       "1  2021-02-15 13:50:21.600  0.105081  2.691852  9.735305 -0.015150  0.017822   \n",
       "2  2021-02-15 13:50:21.650 -0.065414  2.734813  9.690698  0.029210 -0.072317   \n",
       "3  2021-02-15 13:50:21.700  0.288300  2.505939  9.488469  0.007310 -0.021133   \n",
       "4  2021-02-15 13:50:21.751 -0.041763  2.713407  9.748029  0.076889 -0.033310   \n",
       "\n",
       "     AngV_Z      Mag_X     Mag_Y      Mag_Z     Orin_X     Orin_Y    Orin_Z  \\\n",
       "0  0.045454 -19.597500 -5.601242 -41.832703 -90.007644 -15.340794 -0.056757   \n",
       "1 -0.039482 -19.790108 -5.628992 -41.756622 -90.030670 -15.489331 -0.163034   \n",
       "2  0.006180 -19.635098 -5.536165 -42.205139 -90.047929 -15.306761 -0.206336   \n",
       "3 -0.040295 -19.892584 -5.790623 -41.786987 -90.010922 -15.431007 -0.321902   \n",
       "4 -0.016419 -19.826864 -5.771675 -41.874054 -90.017554 -15.397740 -0.532236   \n",
       "\n",
       "  Activity  \n",
       "0  Sitting  \n",
       "1  Sitting  \n",
       "2  Sitting  \n",
       "3  Sitting  \n",
       "4  Sitting  "
      ]
     },
     "execution_count": 10,
     "metadata": {},
     "output_type": "execute_result"
    }
   ],
   "source": [
    "df.head()"
   ]
  },
  {
   "cell_type": "code",
   "execution_count": 11,
   "metadata": {},
   "outputs": [
    {
     "name": "stdout",
     "output_type": "stream",
     "text": [
      "<class 'pandas.core.frame.DataFrame'>\n",
      "Int64Index: 9585 entries, 0 to 9584\n",
      "Data columns (total 14 columns):\n",
      " #   Column     Non-Null Count  Dtype  \n",
      "---  ------     --------------  -----  \n",
      " 0   Timestamp  9585 non-null   object \n",
      " 1   Acc_X      9585 non-null   float64\n",
      " 2   Acc_Y      9585 non-null   float64\n",
      " 3   Acc_Z      9585 non-null   float64\n",
      " 4   AngV_X     9585 non-null   float64\n",
      " 5   AngV_Y     9585 non-null   float64\n",
      " 6   AngV_Z     9585 non-null   float64\n",
      " 7   Mag_X      9585 non-null   float64\n",
      " 8   Mag_Y      9585 non-null   float64\n",
      " 9   Mag_Z      9585 non-null   float64\n",
      " 10  Orin_X     9585 non-null   float64\n",
      " 11  Orin_Y     9585 non-null   float64\n",
      " 12  Orin_Z     9585 non-null   float64\n",
      " 13  Activity   9585 non-null   object \n",
      "dtypes: float64(12), object(2)\n",
      "memory usage: 1.1+ MB\n"
     ]
    }
   ],
   "source": [
    "df.info()"
   ]
  },
  {
   "cell_type": "code",
   "execution_count": 12,
   "metadata": {},
   "outputs": [],
   "source": [
    "from sklearn.preprocessing import LabelEncoder\n",
    "le = LabelEncoder()\n",
    "\n",
    "Activity_class = le.fit_transform(df['Activity'])"
   ]
  },
  {
   "cell_type": "code",
   "execution_count": 13,
   "metadata": {},
   "outputs": [
    {
     "data": {
      "text/plain": [
       "array([1, 1, 1, ..., 3, 3, 3])"
      ]
     },
     "execution_count": 13,
     "metadata": {},
     "output_type": "execute_result"
    }
   ],
   "source": [
    "Activity_class"
   ]
  },
  {
   "cell_type": "code",
   "execution_count": 14,
   "metadata": {},
   "outputs": [
    {
     "data": {
      "text/plain": [
       "(9585,)"
      ]
     },
     "execution_count": 14,
     "metadata": {},
     "output_type": "execute_result"
    }
   ],
   "source": [
    "Activity_class.shape"
   ]
  },
  {
   "cell_type": "code",
   "execution_count": 15,
   "metadata": {},
   "outputs": [],
   "source": [
    "X= df.iloc[:, 1:-1].values\n",
    "y = Activity_class"
   ]
  },
  {
   "cell_type": "code",
   "execution_count": 16,
   "metadata": {},
   "outputs": [
    {
     "data": {
      "text/plain": [
       "(9585, 12)"
      ]
     },
     "execution_count": 16,
     "metadata": {},
     "output_type": "execute_result"
    }
   ],
   "source": [
    "X.shape"
   ]
  },
  {
   "cell_type": "code",
   "execution_count": 17,
   "metadata": {},
   "outputs": [
    {
     "data": {
      "text/plain": [
       "(9585,)"
      ]
     },
     "execution_count": 17,
     "metadata": {},
     "output_type": "execute_result"
    }
   ],
   "source": [
    "y.shape"
   ]
  },
  {
   "cell_type": "raw",
   "metadata": {},
   "source": [
    "Splitting the dataset into the Training and test set"
   ]
  },
  {
   "cell_type": "code",
   "execution_count": 18,
   "metadata": {},
   "outputs": [],
   "source": [
    "from sklearn.model_selection import train_test_split\n",
    "\n",
    "X_train, X_test, y_train, y_test = train_test_split(X, y, test_size = 0.2, random_state= 0)\n",
    "\n"
   ]
  },
  {
   "cell_type": "code",
   "execution_count": 19,
   "metadata": {},
   "outputs": [
    {
     "data": {
      "text/plain": [
       "(9585, 12)"
      ]
     },
     "execution_count": 19,
     "metadata": {},
     "output_type": "execute_result"
    }
   ],
   "source": [
    "X.shape"
   ]
  },
  {
   "cell_type": "code",
   "execution_count": 20,
   "metadata": {},
   "outputs": [
    {
     "data": {
      "text/plain": [
       "(9585, 12)"
      ]
     },
     "execution_count": 20,
     "metadata": {},
     "output_type": "execute_result"
    }
   ],
   "source": [
    "X.shape"
   ]
  },
  {
   "cell_type": "code",
   "execution_count": 21,
   "metadata": {},
   "outputs": [],
   "source": [
    "from sklearn.preprocessing import StandardScaler\n",
    "\n",
    "sc = StandardScaler()\n",
    "X_train = sc.fit_transform(X_train)\n",
    "X_test = sc.fit_transform(X_test)"
   ]
  },
  {
   "cell_type": "raw",
   "metadata": {},
   "source": [
    "Creating encoding for the classes in the output data"
   ]
  },
  {
   "cell_type": "code",
   "execution_count": 22,
   "metadata": {},
   "outputs": [],
   "source": [
    "y_train = np_utils.to_categorical(y_train)\n",
    "y_test = np_utils.to_categorical(y_test)"
   ]
  },
  {
   "cell_type": "code",
   "execution_count": 23,
   "metadata": {},
   "outputs": [
    {
     "data": {
      "text/plain": [
       "array([[0., 0., 1., 0.],\n",
       "       [0., 1., 0., 0.],\n",
       "       [0., 0., 0., 1.],\n",
       "       ...,\n",
       "       [0., 0., 1., 0.],\n",
       "       [1., 0., 0., 0.],\n",
       "       [1., 0., 0., 0.]], dtype=float32)"
      ]
     },
     "execution_count": 23,
     "metadata": {},
     "output_type": "execute_result"
    }
   ],
   "source": [
    "y_train"
   ]
  },
  {
   "cell_type": "raw",
   "metadata": {},
   "source": [
    " Neural Network (Training)"
   ]
  },
  {
   "cell_type": "code",
   "execution_count": 24,
   "metadata": {},
   "outputs": [
    {
     "data": {
      "text/plain": [
       "8.0"
      ]
     },
     "execution_count": 24,
     "metadata": {},
     "output_type": "execute_result"
    }
   ],
   "source": [
    "(12 + 4) /2"
   ]
  },
  {
   "cell_type": "code",
   "execution_count": 25,
   "metadata": {},
   "outputs": [],
   "source": [
    "# Neural network Strcuture  ====  12 -> 8 -> 8 -> 4\n",
    "\n",
    "# Initializing the ANN\n",
    "network = Sequential()\n",
    "\n",
    "# Adding the input layer and the first hidden layer\n",
    "network.add(Dense(input_shape = (12,), units = 8, activation = 'relu'))\n",
    "#network.add(Dropout(0.02))\n",
    "#Adding the second hidden layer\n",
    "network.add(Dense(units=8, activation='relu'))\n",
    "##network.add(Dropout(0.02))\n",
    "##adding another hidden layer\n",
    "##network.add(Dense(units=8, activation='relu'))\n",
    "##network.add(Dropout(0.02))\n",
    "##network.add(Dense(units=36, activation='relu'))\n",
    "##network.add(Dropout(0.02))\n",
    "\n",
    "# Adding the output layer\n",
    "network.add(Dense(units = 4, activation='softmax'))"
   ]
  },
  {
   "cell_type": "code",
   "execution_count": 26,
   "metadata": {},
   "outputs": [],
   "source": [
    "# Compiling the ANN\n",
    "network.compile(loss = 'categorical_crossentropy', optimizer='adam', metrics = ['accuracy'])"
   ]
  },
  {
   "cell_type": "code",
   "execution_count": 27,
   "metadata": {},
   "outputs": [
    {
     "name": "stdout",
     "output_type": "stream",
     "text": [
      "Model: \"sequential\"\n",
      "_________________________________________________________________\n",
      "Layer (type)                 Output Shape              Param #   \n",
      "=================================================================\n",
      "dense (Dense)                (None, 8)                 104       \n",
      "_________________________________________________________________\n",
      "dense_1 (Dense)              (None, 8)                 72        \n",
      "_________________________________________________________________\n",
      "dense_2 (Dense)              (None, 4)                 36        \n",
      "=================================================================\n",
      "Total params: 212\n",
      "Trainable params: 212\n",
      "Non-trainable params: 0\n",
      "_________________________________________________________________\n"
     ]
    }
   ],
   "source": [
    "network.summary()"
   ]
  },
  {
   "cell_type": "code",
   "execution_count": 28,
   "metadata": {},
   "outputs": [
    {
     "name": "stdout",
     "output_type": "stream",
     "text": [
      "Epoch 1/80\n",
      "64/64 [==============================] - 0s 1000us/step - loss: 1.5395 - accuracy: 0.2631\n",
      "Epoch 2/80\n",
      "64/64 [==============================] - 0s 822us/step - loss: 1.2080 - accuracy: 0.5850\n",
      "Epoch 3/80\n",
      "64/64 [==============================] - 0s 765us/step - loss: 0.9999 - accuracy: 0.7240\n",
      "Epoch 4/80\n",
      "64/64 [==============================] - 0s 817us/step - loss: 0.8251 - accuracy: 0.7813\n",
      "Epoch 5/80\n",
      "64/64 [==============================] - 0s 871us/step - loss: 0.6927 - accuracy: 0.8244\n",
      "Epoch 6/80\n",
      "64/64 [==============================] - 0s 871us/step - loss: 0.5922 - accuracy: 0.8676\n",
      "Epoch 7/80\n",
      "64/64 [==============================] - 0s 776us/step - loss: 0.4827 - accuracy: 0.9406\n",
      "Epoch 8/80\n",
      "64/64 [==============================] - 0s 792us/step - loss: 0.3864 - accuracy: 0.9662\n",
      "Epoch 9/80\n",
      "64/64 [==============================] - 0s 751us/step - loss: 0.3086 - accuracy: 0.9746\n",
      "Epoch 10/80\n",
      "64/64 [==============================] - 0s 744us/step - loss: 0.2437 - accuracy: 0.9778\n",
      "Epoch 11/80\n",
      "64/64 [==============================] - 0s 772us/step - loss: 0.1866 - accuracy: 0.9822\n",
      "Epoch 12/80\n",
      "64/64 [==============================] - 0s 744us/step - loss: 0.1469 - accuracy: 0.9871\n",
      "Epoch 13/80\n",
      "64/64 [==============================] - 0s 769us/step - loss: 0.1179 - accuracy: 0.9877\n",
      "Epoch 14/80\n",
      "64/64 [==============================] - 0s 759us/step - loss: 0.0998 - accuracy: 0.9857\n",
      "Epoch 15/80\n",
      "64/64 [==============================] - 0s 742us/step - loss: 0.0896 - accuracy: 0.9871\n",
      "Epoch 16/80\n",
      "64/64 [==============================] - 0s 713us/step - loss: 0.0690 - accuracy: 0.9896\n",
      "Epoch 17/80\n",
      "64/64 [==============================] - 0s 747us/step - loss: 0.0639 - accuracy: 0.9909\n",
      "Epoch 18/80\n",
      "64/64 [==============================] - 0s 760us/step - loss: 0.0573 - accuracy: 0.9905\n",
      "Epoch 19/80\n",
      "64/64 [==============================] - 0s 717us/step - loss: 0.0503 - accuracy: 0.9902\n",
      "Epoch 20/80\n",
      "64/64 [==============================] - 0s 744us/step - loss: 0.0487 - accuracy: 0.9901\n",
      "Epoch 21/80\n",
      "64/64 [==============================] - 0s 760us/step - loss: 0.0426 - accuracy: 0.9912\n",
      "Epoch 22/80\n",
      "64/64 [==============================] - 0s 718us/step - loss: 0.0410 - accuracy: 0.9910\n",
      "Epoch 23/80\n",
      "64/64 [==============================] - 0s 838us/step - loss: 0.0379 - accuracy: 0.9920\n",
      "Epoch 24/80\n",
      "64/64 [==============================] - 0s 839us/step - loss: 0.0376 - accuracy: 0.9923\n",
      "Epoch 25/80\n",
      "64/64 [==============================] - 0s 871us/step - loss: 0.0340 - accuracy: 0.9929\n",
      "Epoch 26/80\n",
      "64/64 [==============================] - 0s 786us/step - loss: 0.0307 - accuracy: 0.9926\n",
      "Epoch 27/80\n",
      "64/64 [==============================] - 0s 791us/step - loss: 0.0293 - accuracy: 0.9930\n",
      "Epoch 28/80\n",
      "64/64 [==============================] - 0s 728us/step - loss: 0.0316 - accuracy: 0.9933\n",
      "Epoch 29/80\n",
      "64/64 [==============================] - 0s 823us/step - loss: 0.0255 - accuracy: 0.9948\n",
      "Epoch 30/80\n",
      "64/64 [==============================] - 0s 773us/step - loss: 0.0252 - accuracy: 0.9933\n",
      "Epoch 31/80\n",
      "64/64 [==============================] - 0s 728us/step - loss: 0.0280 - accuracy: 0.9931\n",
      "Epoch 32/80\n",
      "64/64 [==============================] - 0s 763us/step - loss: 0.0231 - accuracy: 0.9940\n",
      "Epoch 33/80\n",
      "64/64 [==============================] - 0s 753us/step - loss: 0.0224 - accuracy: 0.9947\n",
      "Epoch 34/80\n",
      "64/64 [==============================] - 0s 811us/step - loss: 0.0223 - accuracy: 0.9953\n",
      "Epoch 35/80\n",
      "64/64 [==============================] - 0s 728us/step - loss: 0.0202 - accuracy: 0.9956\n",
      "Epoch 36/80\n",
      "64/64 [==============================] - 0s 748us/step - loss: 0.0212 - accuracy: 0.9943\n",
      "Epoch 37/80\n",
      "64/64 [==============================] - 0s 760us/step - loss: 0.0246 - accuracy: 0.9938\n",
      "Epoch 38/80\n",
      "64/64 [==============================] - 0s 758us/step - loss: 0.0218 - accuracy: 0.9939\n",
      "Epoch 39/80\n",
      "64/64 [==============================] - 0s 712us/step - loss: 0.0171 - accuracy: 0.9963\n",
      "Epoch 40/80\n",
      "64/64 [==============================] - 0s 839us/step - loss: 0.0181 - accuracy: 0.9955\n",
      "Epoch 41/80\n",
      "64/64 [==============================] - 0s 760us/step - loss: 0.0222 - accuracy: 0.9944\n",
      "Epoch 42/80\n",
      "64/64 [==============================] - 0s 785us/step - loss: 0.0172 - accuracy: 0.9956\n",
      "Epoch 43/80\n",
      "64/64 [==============================] - 0s 722us/step - loss: 0.0165 - accuracy: 0.9964\n",
      "Epoch 44/80\n",
      "64/64 [==============================] - 0s 726us/step - loss: 0.0181 - accuracy: 0.9953\n",
      "Epoch 45/80\n",
      "64/64 [==============================] - 0s 744us/step - loss: 0.0164 - accuracy: 0.9949\n",
      "Epoch 46/80\n",
      "64/64 [==============================] - 0s 785us/step - loss: 0.0186 - accuracy: 0.9942\n",
      "Epoch 47/80\n",
      "64/64 [==============================] - 0s 792us/step - loss: 0.0132 - accuracy: 0.9963\n",
      "Epoch 48/80\n",
      "64/64 [==============================] - 0s 824us/step - loss: 0.0150 - accuracy: 0.9963\n",
      "Epoch 49/80\n",
      "64/64 [==============================] - 0s 720us/step - loss: 0.0158 - accuracy: 0.9952\n",
      "Epoch 50/80\n",
      "64/64 [==============================] - 0s 760us/step - loss: 0.0151 - accuracy: 0.9959\n",
      "Epoch 51/80\n",
      "64/64 [==============================] - 0s 829us/step - loss: 0.0132 - accuracy: 0.9965\n",
      "Epoch 52/80\n",
      "64/64 [==============================] - 0s 744us/step - loss: 0.0133 - accuracy: 0.9959\n",
      "Epoch 53/80\n",
      "64/64 [==============================] - 0s 745us/step - loss: 0.0176 - accuracy: 0.9943\n",
      "Epoch 54/80\n",
      "64/64 [==============================] - 0s 681us/step - loss: 0.0140 - accuracy: 0.9953\n",
      "Epoch 55/80\n",
      "64/64 [==============================] - 0s 744us/step - loss: 0.0132 - accuracy: 0.9960\n",
      "Epoch 56/80\n",
      "64/64 [==============================] - 0s 744us/step - loss: 0.0122 - accuracy: 0.9966\n",
      "Epoch 57/80\n",
      "64/64 [==============================] - 0s 687us/step - loss: 0.0118 - accuracy: 0.9967\n",
      "Epoch 58/80\n",
      "64/64 [==============================] - 0s 728us/step - loss: 0.0104 - accuracy: 0.9970\n",
      "Epoch 59/80\n",
      "64/64 [==============================] - 0s 792us/step - loss: 0.0138 - accuracy: 0.9954\n",
      "Epoch 60/80\n",
      "64/64 [==============================] - 0s 712us/step - loss: 0.0123 - accuracy: 0.9964\n",
      "Epoch 61/80\n",
      "64/64 [==============================] - 0s 791us/step - loss: 0.0090 - accuracy: 0.9974\n",
      "Epoch 62/80\n",
      "64/64 [==============================] - 0s 792us/step - loss: 0.0098 - accuracy: 0.9971\n",
      "Epoch 63/80\n",
      "64/64 [==============================] - 0s 832us/step - loss: 0.0117 - accuracy: 0.9964\n",
      "Epoch 64/80\n",
      "64/64 [==============================] - 0s 744us/step - loss: 0.0116 - accuracy: 0.9970\n",
      "Epoch 65/80\n",
      "64/64 [==============================] - 0s 744us/step - loss: 0.0117 - accuracy: 0.9961\n",
      "Epoch 66/80\n",
      "64/64 [==============================] - 0s 768us/step - loss: 0.0099 - accuracy: 0.9963\n",
      "Epoch 67/80\n",
      "64/64 [==============================] - 0s 728us/step - loss: 0.0090 - accuracy: 0.9974\n",
      "Epoch 68/80\n",
      "64/64 [==============================] - 0s 812us/step - loss: 0.0097 - accuracy: 0.9970\n",
      "Epoch 69/80\n",
      "64/64 [==============================] - 0s 744us/step - loss: 0.0087 - accuracy: 0.9976\n",
      "Epoch 70/80\n",
      "64/64 [==============================] - 0s 743us/step - loss: 0.0082 - accuracy: 0.9980\n",
      "Epoch 71/80\n",
      "64/64 [==============================] - 0s 729us/step - loss: 0.0091 - accuracy: 0.9968\n",
      "Epoch 72/80\n",
      "64/64 [==============================] - 0s 728us/step - loss: 0.0100 - accuracy: 0.9958\n",
      "Epoch 73/80\n",
      "64/64 [==============================] - 0s 760us/step - loss: 0.0110 - accuracy: 0.9964\n",
      "Epoch 74/80\n",
      "64/64 [==============================] - 0s 728us/step - loss: 0.0085 - accuracy: 0.9977\n",
      "Epoch 75/80\n",
      "64/64 [==============================] - 0s 712us/step - loss: 0.0073 - accuracy: 0.9979\n",
      "Epoch 76/80\n",
      "64/64 [==============================] - 0s 784us/step - loss: 0.0074 - accuracy: 0.9978\n",
      "Epoch 77/80\n",
      "64/64 [==============================] - 0s 821us/step - loss: 0.0085 - accuracy: 0.9973\n",
      "Epoch 78/80\n",
      "64/64 [==============================] - 0s 775us/step - loss: 0.0075 - accuracy: 0.9976\n",
      "Epoch 79/80\n",
      "64/64 [==============================] - 0s 749us/step - loss: 0.0069 - accuracy: 0.9984\n",
      "Epoch 80/80\n",
      "64/64 [==============================] - 0s 665us/step - loss: 0.0079 - accuracy: 0.9974\n"
     ]
    }
   ],
   "source": [
    "history = network.fit(X_train, y_train, batch_size=120, epochs=80)"
   ]
  },
  {
   "cell_type": "raw",
   "metadata": {},
   "source": [
    "Neural network (evaluation)"
   ]
  },
  {
   "cell_type": "code",
   "execution_count": 29,
   "metadata": {},
   "outputs": [
    {
     "data": {
      "text/plain": [
       "dict_keys(['loss', 'accuracy'])"
      ]
     },
     "execution_count": 29,
     "metadata": {},
     "output_type": "execute_result"
    }
   ],
   "source": [
    "history.history.keys()"
   ]
  },
  {
   "cell_type": "code",
   "execution_count": 30,
   "metadata": {},
   "outputs": [
    {
     "data": {
      "image/png": "[encoded data removed]",
      "text/plain": [
       "<Figure size 432x288 with 1 Axes>"
      ]
     },
     "metadata": {
      "needs_background": "light"
     },
     "output_type": "display_data"
    }
   ],
   "source": [
    "plt.plot(history.history['loss'])\n",
    "plt.title('Loss ')\n",
    "plt.show()"
   ]
  },
  {
   "cell_type": "code",
   "execution_count": 31,
   "metadata": {},
   "outputs": [
    {
     "data": {
      "image/png": "[encoded data removed]",
      "text/plain": [
       "<Figure size 432x288 with 1 Axes>"
      ]
     },
     "metadata": {
      "needs_background": "light"
     },
     "output_type": "display_data"
    }
   ],
   "source": [
    "plt.plot(history.history['accuracy'])\n",
    "plt.title('Accuracy ')\n",
    "plt.show()\n"
   ]
  },
  {
   "cell_type": "code",
   "execution_count": 32,
   "metadata": {},
   "outputs": [
    {
     "name": "stdout",
     "output_type": "stream",
     "text": [
      "60/60 [==============================] - 0s 631us/step - loss: 0.0134 - accuracy: 0.9937\n"
     ]
    }
   ],
   "source": [
    "accuracy_test = network.evaluate(X_test, y_test)"
   ]
  },
  {
   "cell_type": "code",
   "execution_count": 33,
   "metadata": {},
   "outputs": [],
   "source": [
    "predictions = network.predict(X_test)"
   ]
  },
  {
   "cell_type": "code",
   "execution_count": 34,
   "metadata": {},
   "outputs": [
    {
     "data": {
      "text/plain": [
       "array([1.7595294e-04, 2.3296209e-07, 9.5835446e-07, 9.9982291e-01],\n",
       "      dtype=float32)"
      ]
     },
     "execution_count": 34,
     "metadata": {},
     "output_type": "execute_result"
    }
   ],
   "source": [
    "predictions[0]"
   ]
  },
  {
   "cell_type": "code",
   "execution_count": 35,
   "metadata": {},
   "outputs": [
    {
     "data": {
      "text/plain": [
       "array([0., 0., 0., 1.], dtype=float32)"
      ]
     },
     "execution_count": 35,
     "metadata": {},
     "output_type": "execute_result"
    }
   ],
   "source": [
    " y_test[0]"
   ]
  },
  {
   "cell_type": "code",
   "execution_count": 36,
   "metadata": {},
   "outputs": [
    {
     "data": {
      "text/plain": [
       "3"
      ]
     },
     "execution_count": 36,
     "metadata": {},
     "output_type": "execute_result"
    }
   ],
   "source": [
    "np.argmax(predictions[0])"
   ]
  },
  {
   "cell_type": "code",
   "execution_count": 37,
   "metadata": {},
   "outputs": [
    {
     "name": "stdout",
     "output_type": "stream",
     "text": [
      "Sitting\n"
     ]
    }
   ],
   "source": [
    "print(df['Activity'][np.argmax(predictions[0])])"
   ]
  },
  {
   "cell_type": "code",
   "execution_count": 38,
   "metadata": {},
   "outputs": [
    {
     "data": {
      "text/html": [
       "<div>\n",
       "<style scoped>\n",
       "    .dataframe tbody tr th:only-of-type {\n",
       "        vertical-align: middle;\n",
       "    }\n",
       "\n",
       "    .dataframe tbody tr th {\n",
       "        vertical-align: top;\n",
       "    }\n",
       "\n",
       "    .dataframe thead th {\n",
       "        text-align: right;\n",
       "    }\n",
       "</style>\n",
       "<table border=\"1\" class=\"dataframe\">\n",
       "  <thead>\n",
       "    <tr style=\"text-align: right;\">\n",
       "      <th></th>\n",
       "      <th>Timestamp</th>\n",
       "      <th>Acc_X</th>\n",
       "      <th>Acc_Y</th>\n",
       "      <th>Acc_Z</th>\n",
       "      <th>AngV_X</th>\n",
       "      <th>AngV_Y</th>\n",
       "      <th>AngV_Z</th>\n",
       "      <th>Mag_X</th>\n",
       "      <th>Mag_Y</th>\n",
       "      <th>Mag_Z</th>\n",
       "      <th>Orin_X</th>\n",
       "      <th>Orin_Y</th>\n",
       "      <th>Orin_Z</th>\n",
       "      <th>Activity</th>\n",
       "    </tr>\n",
       "  </thead>\n",
       "  <tbody>\n",
       "    <tr>\n",
       "      <th>0</th>\n",
       "      <td>2021-02-15 13:50:21.550</td>\n",
       "      <td>-0.158969</td>\n",
       "      <td>2.803969</td>\n",
       "      <td>9.085058</td>\n",
       "      <td>-0.043932</td>\n",
       "      <td>-0.045130</td>\n",
       "      <td>0.045454</td>\n",
       "      <td>-19.597500</td>\n",
       "      <td>-5.601242</td>\n",
       "      <td>-41.832703</td>\n",
       "      <td>-90.007644</td>\n",
       "      <td>-15.340794</td>\n",
       "      <td>-0.056757</td>\n",
       "      <td>Sitting</td>\n",
       "    </tr>\n",
       "    <tr>\n",
       "      <th>1</th>\n",
       "      <td>2021-02-15 13:50:21.600</td>\n",
       "      <td>0.105081</td>\n",
       "      <td>2.691852</td>\n",
       "      <td>9.735305</td>\n",
       "      <td>-0.015150</td>\n",
       "      <td>0.017822</td>\n",
       "      <td>-0.039482</td>\n",
       "      <td>-19.790108</td>\n",
       "      <td>-5.628992</td>\n",
       "      <td>-41.756622</td>\n",
       "      <td>-90.030670</td>\n",
       "      <td>-15.489331</td>\n",
       "      <td>-0.163034</td>\n",
       "      <td>Sitting</td>\n",
       "    </tr>\n",
       "    <tr>\n",
       "      <th>2</th>\n",
       "      <td>2021-02-15 13:50:21.650</td>\n",
       "      <td>-0.065414</td>\n",
       "      <td>2.734813</td>\n",
       "      <td>9.690698</td>\n",
       "      <td>0.029210</td>\n",
       "      <td>-0.072317</td>\n",
       "      <td>0.006180</td>\n",
       "      <td>-19.635098</td>\n",
       "      <td>-5.536165</td>\n",
       "      <td>-42.205139</td>\n",
       "      <td>-90.047929</td>\n",
       "      <td>-15.306761</td>\n",
       "      <td>-0.206336</td>\n",
       "      <td>Sitting</td>\n",
       "    </tr>\n",
       "    <tr>\n",
       "      <th>3</th>\n",
       "      <td>2021-02-15 13:50:21.700</td>\n",
       "      <td>0.288300</td>\n",
       "      <td>2.505939</td>\n",
       "      <td>9.488469</td>\n",
       "      <td>0.007310</td>\n",
       "      <td>-0.021133</td>\n",
       "      <td>-0.040295</td>\n",
       "      <td>-19.892584</td>\n",
       "      <td>-5.790623</td>\n",
       "      <td>-41.786987</td>\n",
       "      <td>-90.010922</td>\n",
       "      <td>-15.431007</td>\n",
       "      <td>-0.321902</td>\n",
       "      <td>Sitting</td>\n",
       "    </tr>\n",
       "    <tr>\n",
       "      <th>4</th>\n",
       "      <td>2021-02-15 13:50:21.751</td>\n",
       "      <td>-0.041763</td>\n",
       "      <td>2.713407</td>\n",
       "      <td>9.748029</td>\n",
       "      <td>0.076889</td>\n",
       "      <td>-0.033310</td>\n",
       "      <td>-0.016419</td>\n",
       "      <td>-19.826864</td>\n",
       "      <td>-5.771675</td>\n",
       "      <td>-41.874054</td>\n",
       "      <td>-90.017554</td>\n",
       "      <td>-15.397740</td>\n",
       "      <td>-0.532236</td>\n",
       "      <td>Sitting</td>\n",
       "    </tr>\n",
       "  </tbody>\n",
       "</table>\n",
       "</div>"
      ],
      "text/plain": [
       "                 Timestamp     Acc_X     Acc_Y     Acc_Z    AngV_X    AngV_Y  \\\n",
       "0  2021-02-15 13:50:21.550 -0.158969  2.803969  9.085058 -0.043932 -0.045130   \n",
       "1  2021-02-15 13:50:21.600  0.105081  2.691852  9.735305 -0.015150  0.017822   \n",
       "2  2021-02-15 13:50:21.650 -0.065414  2.734813  9.690698  0.029210 -0.072317   \n",
       "3  2021-02-15 13:50:21.700  0.288300  2.505939  9.488469  0.007310 -0.021133   \n",
       "4  2021-02-15 13:50:21.751 -0.041763  2.713407  9.748029  0.076889 -0.033310   \n",
       "\n",
       "     AngV_Z      Mag_X     Mag_Y      Mag_Z     Orin_X     Orin_Y    Orin_Z  \\\n",
       "0  0.045454 -19.597500 -5.601242 -41.832703 -90.007644 -15.340794 -0.056757   \n",
       "1 -0.039482 -19.790108 -5.628992 -41.756622 -90.030670 -15.489331 -0.163034   \n",
       "2  0.006180 -19.635098 -5.536165 -42.205139 -90.047929 -15.306761 -0.206336   \n",
       "3 -0.040295 -19.892584 -5.790623 -41.786987 -90.010922 -15.431007 -0.321902   \n",
       "4 -0.016419 -19.826864 -5.771675 -41.874054 -90.017554 -15.397740 -0.532236   \n",
       "\n",
       "  Activity  \n",
       "0  Sitting  \n",
       "1  Sitting  \n",
       "2  Sitting  \n",
       "3  Sitting  \n",
       "4  Sitting  "
      ]
     },
     "execution_count": 38,
     "metadata": {},
     "output_type": "execute_result"
    }
   ],
   "source": [
    "df.head()"
   ]
  },
  {
   "cell_type": "code",
   "execution_count": 39,
   "metadata": {},
   "outputs": [],
   "source": [
    "unseen_df= pd.read_csv('Product_Use_Data_Labeled.csv')"
   ]
  },
  {
   "cell_type": "code",
   "execution_count": 40,
   "metadata": {},
   "outputs": [
    {
     "name": "stdout",
     "output_type": "stream",
     "text": [
      "<class 'pandas.core.frame.DataFrame'>\n",
      "RangeIndex: 148777 entries, 0 to 148776\n",
      "Data columns (total 17 columns):\n",
      " #   Column                  Non-Null Count   Dtype  \n",
      "---  ------                  --------------   -----  \n",
      " 0   Acceleration_Timestamp  148777 non-null  object \n",
      " 1   Acc_X                   148777 non-null  float64\n",
      " 2   Acc_Y                   148777 non-null  float64\n",
      " 3   Acc_Z                   148777 non-null  float64\n",
      " 4   AngVelocity_Timestamp   148777 non-null  object \n",
      " 5   AngV_X                  148777 non-null  float64\n",
      " 6   AngV_Y                  148777 non-null  float64\n",
      " 7   AngV_Z                  148777 non-null  float64\n",
      " 8   MagField_Timestamp      148777 non-null  object \n",
      " 9   Mag_X                   148777 non-null  float64\n",
      " 10  Mag_Y                   148777 non-null  float64\n",
      " 11  Mag_Z                   148777 non-null  float64\n",
      " 12  Orientation_Timestamp   148777 non-null  object \n",
      " 13  Orin_X                  148777 non-null  float64\n",
      " 14  Orin_Y                  148777 non-null  float64\n",
      " 15  Orin_Z                  148777 non-null  float64\n",
      " 16  Activity                148777 non-null  object \n",
      "dtypes: float64(12), object(5)\n",
      "memory usage: 19.3+ MB\n"
     ]
    }
   ],
   "source": [
    "unseen_df.info()"
   ]
  },
  {
   "cell_type": "code",
   "execution_count": 41,
   "metadata": {},
   "outputs": [
    {
     "name": "stdout",
     "output_type": "stream",
     "text": [
      "Chatty-Dataset/Dataset Activities:  ['Vibration' 'Sitting' 'Drop_n_Pickup' 'Standing' 'Walking'\n",
      " 'Stationary_on_Table']\n",
      "Aveen/Dataset Activities:  ['Sitting' 'Drop_Pickup' 'Standing' 'Walking']\n"
     ]
    }
   ],
   "source": [
    "print(\"Chatty-Dataset/Dataset Activities: \",unseen_df['Activity'].unique())\n",
    "print(\"Aveen/Dataset Activities: \",df['Activity'].unique())"
   ]
  },
  {
   "cell_type": "code",
   "execution_count": 42,
   "metadata": {},
   "outputs": [],
   "source": [
    "\n",
    "unseen_df.drop(unseen_df[unseen_df['Activity'] == \"Vibration\" ].index , inplace=True)\n",
    "unseen_df.drop(unseen_df[unseen_df['Activity'] == \"Stationary_on_Table\" ].index , inplace=True)\n",
    "\n",
    "\n"
   ]
  },
  {
   "cell_type": "code",
   "execution_count": 43,
   "metadata": {},
   "outputs": [
    {
     "name": "stdout",
     "output_type": "stream",
     "text": [
      "Chatty-Dataset/Dataset Activities:  ['Sitting' 'Drop_n_Pickup' 'Standing' 'Walking']\n"
     ]
    }
   ],
   "source": [
    "print(\"Chatty-Dataset/Dataset Activities: \",unseen_df['Activity'].unique())"
   ]
  },
  {
   "cell_type": "code",
   "execution_count": 44,
   "metadata": {},
   "outputs": [
    {
     "name": "stdout",
     "output_type": "stream",
     "text": [
      "Aveen/Dataset Activities:  ['Sitting' 'Drop_Pickup' 'Standing' 'Walking']\n"
     ]
    }
   ],
   "source": [
    "print(\"Aveen/Dataset Activities: \",df['Activity'].unique())"
   ]
  },
  {
   "cell_type": "code",
   "execution_count": 45,
   "metadata": {},
   "outputs": [],
   "source": [
    "unseen_df = unseen_df.drop(['AngVelocity_Timestamp','AngVelocity_Timestamp','MagField_Timestamp','Orientation_Timestamp'],axis=1)"
   ]
  },
  {
   "cell_type": "code",
   "execution_count": 46,
   "metadata": {},
   "outputs": [
    {
     "data": {
      "text/html": [
       "<div>\n",
       "<style scoped>\n",
       "    .dataframe tbody tr th:only-of-type {\n",
       "        vertical-align: middle;\n",
       "    }\n",
       "\n",
       "    .dataframe tbody tr th {\n",
       "        vertical-align: top;\n",
       "    }\n",
       "\n",
       "    .dataframe thead th {\n",
       "        text-align: right;\n",
       "    }\n",
       "</style>\n",
       "<table border=\"1\" class=\"dataframe\">\n",
       "  <thead>\n",
       "    <tr style=\"text-align: right;\">\n",
       "      <th></th>\n",
       "      <th>Acceleration_Timestamp</th>\n",
       "      <th>Acc_X</th>\n",
       "      <th>Acc_Y</th>\n",
       "      <th>Acc_Z</th>\n",
       "      <th>AngV_X</th>\n",
       "      <th>AngV_Y</th>\n",
       "      <th>AngV_Z</th>\n",
       "      <th>Mag_X</th>\n",
       "      <th>Mag_Y</th>\n",
       "      <th>Mag_Z</th>\n",
       "      <th>Orin_X</th>\n",
       "      <th>Orin_Y</th>\n",
       "      <th>Orin_Z</th>\n",
       "      <th>Activity</th>\n",
       "    </tr>\n",
       "  </thead>\n",
       "  <tbody>\n",
       "    <tr>\n",
       "      <th>24558</th>\n",
       "      <td>10-11-2019 19:11:08.916</td>\n",
       "      <td>-0.128732</td>\n",
       "      <td>1.168919</td>\n",
       "      <td>9.667197</td>\n",
       "      <td>0.083513</td>\n",
       "      <td>0.014756</td>\n",
       "      <td>-0.007749</td>\n",
       "      <td>-0.019680</td>\n",
       "      <td>-7.374140</td>\n",
       "      <td>-36.550110</td>\n",
       "      <td>1.691646</td>\n",
       "      <td>-5.832974</td>\n",
       "      <td>2.204140</td>\n",
       "      <td>Sitting</td>\n",
       "    </tr>\n",
       "    <tr>\n",
       "      <th>24559</th>\n",
       "      <td>10-11-2019 19:11:08.926</td>\n",
       "      <td>-0.145947</td>\n",
       "      <td>1.184038</td>\n",
       "      <td>9.522897</td>\n",
       "      <td>0.079753</td>\n",
       "      <td>0.010685</td>\n",
       "      <td>-0.007234</td>\n",
       "      <td>-0.041904</td>\n",
       "      <td>-7.475231</td>\n",
       "      <td>-36.389626</td>\n",
       "      <td>1.691280</td>\n",
       "      <td>-5.883090</td>\n",
       "      <td>2.206025</td>\n",
       "      <td>Sitting</td>\n",
       "    </tr>\n",
       "    <tr>\n",
       "      <th>24560</th>\n",
       "      <td>10-11-2019 19:11:08.936</td>\n",
       "      <td>-0.158371</td>\n",
       "      <td>1.195564</td>\n",
       "      <td>9.448651</td>\n",
       "      <td>0.053968</td>\n",
       "      <td>0.007197</td>\n",
       "      <td>-0.007082</td>\n",
       "      <td>-0.041904</td>\n",
       "      <td>-7.475231</td>\n",
       "      <td>-36.389626</td>\n",
       "      <td>1.690119</td>\n",
       "      <td>-5.924144</td>\n",
       "      <td>2.205353</td>\n",
       "      <td>Sitting</td>\n",
       "    </tr>\n",
       "    <tr>\n",
       "      <th>24561</th>\n",
       "      <td>10-11-2019 19:11:08.946</td>\n",
       "      <td>-0.169298</td>\n",
       "      <td>1.211730</td>\n",
       "      <td>9.449849</td>\n",
       "      <td>0.017335</td>\n",
       "      <td>0.002895</td>\n",
       "      <td>-0.008939</td>\n",
       "      <td>-0.215164</td>\n",
       "      <td>-7.656757</td>\n",
       "      <td>-36.499084</td>\n",
       "      <td>1.688716</td>\n",
       "      <td>-5.946843</td>\n",
       "      <td>2.202901</td>\n",
       "      <td>Sitting</td>\n",
       "    </tr>\n",
       "    <tr>\n",
       "      <th>24562</th>\n",
       "      <td>10-11-2019 19:11:08.956</td>\n",
       "      <td>-0.144300</td>\n",
       "      <td>1.219364</td>\n",
       "      <td>9.495654</td>\n",
       "      <td>-0.016433</td>\n",
       "      <td>0.001976</td>\n",
       "      <td>-0.010027</td>\n",
       "      <td>-0.215164</td>\n",
       "      <td>-7.656757</td>\n",
       "      <td>-36.499084</td>\n",
       "      <td>1.686980</td>\n",
       "      <td>-5.949038</td>\n",
       "      <td>2.199171</td>\n",
       "      <td>Sitting</td>\n",
       "    </tr>\n",
       "  </tbody>\n",
       "</table>\n",
       "</div>"
      ],
      "text/plain": [
       "        Acceleration_Timestamp     Acc_X     Acc_Y     Acc_Z    AngV_X  \\\n",
       "24558  10-11-2019 19:11:08.916 -0.128732  1.168919  9.667197  0.083513   \n",
       "24559  10-11-2019 19:11:08.926 -0.145947  1.184038  9.522897  0.079753   \n",
       "24560  10-11-2019 19:11:08.936 -0.158371  1.195564  9.448651  0.053968   \n",
       "24561  10-11-2019 19:11:08.946 -0.169298  1.211730  9.449849  0.017335   \n",
       "24562  10-11-2019 19:11:08.956 -0.144300  1.219364  9.495654 -0.016433   \n",
       "\n",
       "         AngV_Y    AngV_Z     Mag_X     Mag_Y      Mag_Z    Orin_X    Orin_Y  \\\n",
       "24558  0.014756 -0.007749 -0.019680 -7.374140 -36.550110  1.691646 -5.832974   \n",
       "24559  0.010685 -0.007234 -0.041904 -7.475231 -36.389626  1.691280 -5.883090   \n",
       "24560  0.007197 -0.007082 -0.041904 -7.475231 -36.389626  1.690119 -5.924144   \n",
       "24561  0.002895 -0.008939 -0.215164 -7.656757 -36.499084  1.688716 -5.946843   \n",
       "24562  0.001976 -0.010027 -0.215164 -7.656757 -36.499084  1.686980 -5.949038   \n",
       "\n",
       "         Orin_Z Activity  \n",
       "24558  2.204140  Sitting  \n",
       "24559  2.206025  Sitting  \n",
       "24560  2.205353  Sitting  \n",
       "24561  2.202901  Sitting  \n",
       "24562  2.199171  Sitting  "
      ]
     },
     "execution_count": 46,
     "metadata": {},
     "output_type": "execute_result"
    }
   ],
   "source": [
    "unseen_df.head()"
   ]
  },
  {
   "cell_type": "code",
   "execution_count": 47,
   "metadata": {},
   "outputs": [],
   "source": [
    "#unseen_df =unseen_df.drop(\"Unnamed: 0\", axis=1)"
   ]
  },
  {
   "cell_type": "code",
   "execution_count": 48,
   "metadata": {},
   "outputs": [],
   "source": [
    "unseen_df = unseen_df.dropna()"
   ]
  },
  {
   "cell_type": "code",
   "execution_count": 49,
   "metadata": {},
   "outputs": [
    {
     "name": "stdout",
     "output_type": "stream",
     "text": [
      "<class 'pandas.core.frame.DataFrame'>\n",
      "Int64Index: 99606 entries, 24558 to 124163\n",
      "Data columns (total 14 columns):\n",
      " #   Column                  Non-Null Count  Dtype  \n",
      "---  ------                  --------------  -----  \n",
      " 0   Acceleration_Timestamp  99606 non-null  object \n",
      " 1   Acc_X                   99606 non-null  float64\n",
      " 2   Acc_Y                   99606 non-null  float64\n",
      " 3   Acc_Z                   99606 non-null  float64\n",
      " 4   AngV_X                  99606 non-null  float64\n",
      " 5   AngV_Y                  99606 non-null  float64\n",
      " 6   AngV_Z                  99606 non-null  float64\n",
      " 7   Mag_X                   99606 non-null  float64\n",
      " 8   Mag_Y                   99606 non-null  float64\n",
      " 9   Mag_Z                   99606 non-null  float64\n",
      " 10  Orin_X                  99606 non-null  float64\n",
      " 11  Orin_Y                  99606 non-null  float64\n",
      " 12  Orin_Z                  99606 non-null  float64\n",
      " 13  Activity                99606 non-null  object \n",
      "dtypes: float64(12), object(2)\n",
      "memory usage: 11.4+ MB\n"
     ]
    }
   ],
   "source": [
    "unseen_df.info()"
   ]
  },
  {
   "cell_type": "code",
   "execution_count": 50,
   "metadata": {},
   "outputs": [],
   "source": [
    "from sklearn.preprocessing import LabelEncoder\n",
    "le = LabelEncoder()\n",
    "\n",
    "UnS_Act_class = le.fit_transform(unseen_df['Activity'])"
   ]
  },
  {
   "cell_type": "code",
   "execution_count": 51,
   "metadata": {},
   "outputs": [
    {
     "data": {
      "text/plain": [
       "array([1, 1, 1, ..., 3, 3, 3])"
      ]
     },
     "execution_count": 51,
     "metadata": {},
     "output_type": "execute_result"
    }
   ],
   "source": [
    "UnS_Act_class"
   ]
  },
  {
   "cell_type": "code",
   "execution_count": 52,
   "metadata": {},
   "outputs": [],
   "source": [
    "X_u= unseen_df.iloc[:, 1:-1].values\n",
    "y_u = UnS_Act_class"
   ]
  },
  {
   "cell_type": "code",
   "execution_count": 53,
   "metadata": {},
   "outputs": [],
   "source": [
    "X_u = sc.fit_transform(X_u)"
   ]
  },
  {
   "cell_type": "code",
   "execution_count": 54,
   "metadata": {},
   "outputs": [],
   "source": [
    "# Encoding the classes \n",
    "y_u = np_utils.to_categorical(y_u)"
   ]
  },
  {
   "cell_type": "code",
   "execution_count": 55,
   "metadata": {},
   "outputs": [
    {
     "data": {
      "text/plain": [
       "array([[0., 1., 0., 0.],\n",
       "       [0., 1., 0., 0.],\n",
       "       [0., 1., 0., 0.],\n",
       "       ...,\n",
       "       [0., 0., 0., 1.],\n",
       "       [0., 0., 0., 1.],\n",
       "       [0., 0., 0., 1.]], dtype=float32)"
      ]
     },
     "execution_count": 55,
     "metadata": {},
     "output_type": "execute_result"
    }
   ],
   "source": [
    "y_u"
   ]
  },
  {
   "cell_type": "code",
   "execution_count": 56,
   "metadata": {},
   "outputs": [
    {
     "data": {
      "text/plain": [
       "(99606, 12)"
      ]
     },
     "execution_count": 56,
     "metadata": {},
     "output_type": "execute_result"
    }
   ],
   "source": [
    "X_u.shape"
   ]
  },
  {
   "cell_type": "code",
   "execution_count": 57,
   "metadata": {},
   "outputs": [
    {
     "data": {
      "text/plain": [
       "(99606, 4)"
      ]
     },
     "execution_count": 57,
     "metadata": {},
     "output_type": "execute_result"
    }
   ],
   "source": [
    "y_u.shape"
   ]
  },
  {
   "cell_type": "code",
   "execution_count": 58,
   "metadata": {},
   "outputs": [
    {
     "name": "stdout",
     "output_type": "stream",
     "text": [
      "3113/3113 [==============================] - 2s 594us/step - loss: 6.8388 - accuracy: 0.2404\n"
     ]
    }
   ],
   "source": [
    "Unseen_accuracy_test = network.evaluate(X_u, y_u)"
   ]
  },
  {
   "cell_type": "code",
   "execution_count": null,
   "metadata": {},
   "outputs": [],
   "source": []
  },
  {
   "cell_type": "code",
   "execution_count": null,
   "metadata": {},
   "outputs": [],
   "source": []
  }
 ],
 "metadata": {
  "kernelspec": {
   "display_name": "Python 3",
   "language": "python",
   "name": "python3"
  },
  "language_info": {
   "codemirror_mode": {
    "name": "ipython",
    "version": 3
   },
   "file_extension": ".py",
   "mimetype": "text/x-python",
   "name": "python",
   "nbconvert_exporter": "python",
   "pygments_lexer": "ipython3",
   "version": "3.8.5"
  }
 },
 "nbformat": 4,
 "nbformat_minor": 4
}
